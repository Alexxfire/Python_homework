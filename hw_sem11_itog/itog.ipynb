{
  "nbformat": 4,
  "nbformat_minor": 0,
  "metadata": {
    "colab": {
      "provenance": []
    },
    "kernelspec": {
      "name": "python3",
      "display_name": "Python 3"
    },
    "language_info": {
      "name": "python"
    }
  },
  "cells": [
    {
      "cell_type": "code",
      "source": [
        "# f(x) = -5*x**2 + 10*x - 150\n",
        "# Определить корни\n",
        "# Найти интервалы, на которых функция возрастает\n",
        "# Найти интервалы, на которых функция убывает\n",
        "# Построить график\n",
        "# Вычислить вершину\n",
        "# Определить промежутки, на котором f > 0\n",
        "# Определить промежутки, на котором f < 0"
      ],
      "metadata": {
        "id": "eMu9GqR6XnNw"
      },
      "execution_count": 1,
      "outputs": []
    },
    {
      "cell_type": "code",
      "execution_count": 11,
      "metadata": {
        "colab": {
          "base_uri": "https://localhost:8080/",
          "height": 38
        },
        "id": "-2_y7FV6Ip0X",
        "outputId": "9cda9028-eaf7-4f5b-b71e-f3095b2c8f4e"
      },
      "outputs": [
        {
          "output_type": "execute_result",
          "data": {
            "text/plain": [
              "5*x**2 + 10*x - 150"
            ],
            "text/latex": "$\\displaystyle 5 x^{2} + 10 x - 150$"
          },
          "metadata": {},
          "execution_count": 11
        }
      ],
      "source": [
        "import math\n",
        "from sympy import *\n",
        "from sympy.plotting import plot\n",
        "\n",
        "x = Symbol('x')\n",
        "fx = 5 * x**2 + 10*x - 150\n",
        "fx                        #показать ур-е"
      ]
    },
    {
      "cell_type": "code",
      "source": [
        "p = plot(fx, (x,-10,10))  #вывести график"
      ],
      "metadata": {
        "colab": {
          "base_uri": "https://localhost:8080/",
          "height": 297
        },
        "id": "3xmIxVxRYOAc",
        "outputId": "0d177631-a8fe-4da2-ad45-312323aee6eb"
      },
      "execution_count": 17,
      "outputs": [
        {
          "output_type": "display_data",
          "data": {
            "text/plain": [
              "<Figure size 432x288 with 1 Axes>"
            ],
            "image/png": "[encoded data removed]"
          },
          "metadata": {
            "needs_background": "light"
          }
        }
      ]
    },
    {
      "cell_type": "code",
      "source": [
        "sqrt_1, sqrt_2 = solve(fx)    #корни уравнения\n",
        "print(sqrt_1, sqrt_2)"
      ],
      "metadata": {
        "colab": {
          "base_uri": "https://localhost:8080/"
        },
        "id": "cEhApK2mLX_3",
        "outputId": "88a29167-b317-4a17-a9ce-d0fba35f73d0"
      },
      "execution_count": 3,
      "outputs": [
        {
          "output_type": "stream",
          "name": "stdout",
          "text": [
            "-1 + sqrt(31) -sqrt(31) - 1\n"
          ]
        }
      ]
    },
    {
      "cell_type": "code",
      "source": [
        "apex = solve(diff(fx))[0]  #вершина\n",
        "print(apex)"
      ],
      "metadata": {
        "colab": {
          "base_uri": "https://localhost:8080/"
        },
        "id": "1LRoqM91LeKS",
        "outputId": "da5cca24-f540-411e-ff40-acacd32cf552"
      },
      "execution_count": 15,
      "outputs": [
        {
          "output_type": "stream",
          "name": "stdout",
          "text": [
            "-1\n"
          ]
        }
      ]
    },
    {
      "cell_type": "code",
      "source": [
        "solve(diff(fx) > 0) #интервалы, на которых ф-я возрастает"
      ],
      "metadata": {
        "colab": {
          "base_uri": "https://localhost:8080/",
          "height": 38
        },
        "id": "aymjDLJzL3gO",
        "outputId": "24d4ecb3-811e-44fc-9097-b21534eed28d"
      },
      "execution_count": 5,
      "outputs": [
        {
          "output_type": "execute_result",
          "data": {
            "text/plain": [
              "(-1 < x) & (x < oo)"
            ],
            "text/latex": "$\\displaystyle -1 < x \\wedge x < \\infty$"
          },
          "metadata": {},
          "execution_count": 5
        }
      ]
    },
    {
      "cell_type": "code",
      "source": [
        "solve(diff(fx) < 0) #интервалы, на которых ф-я убывает"
      ],
      "metadata": {
        "colab": {
          "base_uri": "https://localhost:8080/",
          "height": 38
        },
        "id": "oe9nJVeXMtOb",
        "outputId": "d57e23fb-44d7-4785-8f0f-481efe38045c"
      },
      "execution_count": 6,
      "outputs": [
        {
          "output_type": "execute_result",
          "data": {
            "text/plain": [
              "(-oo < x) & (x < -1)"
            ],
            "text/latex": "$\\displaystyle -\\infty < x \\wedge x < -1$"
          },
          "metadata": {},
          "execution_count": 6
        }
      ]
    },
    {
      "cell_type": "code",
      "source": [
        "solve(fx > 0)    #промежутки, на котором f > 0"
      ],
      "metadata": {
        "colab": {
          "base_uri": "https://localhost:8080/",
          "height": 47
        },
        "id": "ZU4Wu0yKOLHX",
        "outputId": "a068d15e-c531-47d9-fbb9-48afc802fc17"
      },
      "execution_count": 7,
      "outputs": [
        {
          "output_type": "execute_result",
          "data": {
            "text/plain": [
              "((x < oo) & (-1 + sqrt(31) < x)) | ((-oo < x) & (x < -sqrt(31) - 1))"
            ],
            "text/latex": "$\\displaystyle \\left(-\\infty < x \\wedge x < - \\sqrt{31} - 1\\right) \\vee \\left(x < \\infty \\wedge -1 + \\sqrt{31} < x\\right)$"
          },
          "metadata": {},
          "execution_count": 7
        }
      ]
    },
    {
      "cell_type": "code",
      "source": [
        "solve(fx < 0)  #промежутки, на котором f < 0"
      ],
      "metadata": {
        "colab": {
          "base_uri": "https://localhost:8080/",
          "height": 39
        },
        "id": "rJsJoHNIQW0M",
        "outputId": "92d964c8-8629-4c8b-9b21-a32b66295a99"
      },
      "execution_count": 8,
      "outputs": [
        {
          "output_type": "execute_result",
          "data": {
            "text/plain": [
              "(x < -1 + sqrt(31)) & (-sqrt(31) - 1 < x)"
            ],
            "text/latex": "$\\displaystyle x < -1 + \\sqrt{31} \\wedge - \\sqrt{31} - 1 < x$"
          },
          "metadata": {},
          "execution_count": 8
        }
      ]
    }
  ]
}